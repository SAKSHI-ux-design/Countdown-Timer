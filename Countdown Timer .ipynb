{
 "cells": [
  {
   "cell_type": "code",
   "execution_count": 2,
   "id": "a62f5a61",
   "metadata": {},
   "outputs": [],
   "source": [
    "from tkinter import *\n",
    "import time\n",
    "from playsound import playsound"
   ]
  },
  {
   "cell_type": "code",
   "execution_count": null,
   "id": "8ea8794a",
   "metadata": {},
   "outputs": [],
   "source": [
    "root = Tk()\n",
    "root.geometry('400x300')\n",
    "root.resizable(0,0)\n",
    "root.config(bg ='blanched almond')\n",
    "root.title('Countdown Clock And Timer')\n",
    "Label(root, text = 'Countdown Clock and Timer' , font = 'arial 20 bold',  bg ='papaya whip').pack()"
   ]
  },
  {
   "cell_type": "code",
   "execution_count": 4,
   "id": "b5b68b02",
   "metadata": {},
   "outputs": [],
   "source": [
    "Label(root, font ='arial 15 bold', text = 'current time :', bg = 'papaya whip').place(x = 40 ,y = 70)\n",
    "\n",
    "def clock():\n",
    "    clock_time = time.strftime('%H:%M:%S %p')\n",
    "    curr_time.config(text = clock_time)\n",
    "    curr_time.after(1000,clock)\n",
    "\n",
    "curr_time =Label(root, font ='arial 15 bold', text = '', fg = 'gray25' ,bg ='papaya whip')\n",
    "curr_time.place(x = 190 , y = 70)\n",
    "clock()"
   ]
  },
  {
   "cell_type": "code",
   "execution_count": 5,
   "id": "d7bb5207",
   "metadata": {},
   "outputs": [],
   "source": [
    "sec = StringVar()\n",
    "Entry(root, textvariable = sec, width = 2, font = 'arial 12').place(x=250, y=155)\n",
    "sec.set('00')\n",
    "\n",
    "mins= StringVar()\n",
    "Entry(root, textvariable = mins, width =2, font = 'arial 12').place(x=225, y=155)\n",
    "mins.set('00')\n",
    "\n",
    "hrs= StringVar()\n",
    "Entry(root, textvariable = hrs, width =2, font = 'arial 12').place(x=200, y=155)\n",
    "hrs.set('00')"
   ]
  },
  {
   "cell_type": "code",
   "execution_count": 6,
   "id": "7c9d17cd",
   "metadata": {},
   "outputs": [],
   "source": [
    "def countdown():\n",
    "    times = int(hrs.get())*3600+ int(mins.get())*60 + int(sec.get())\n",
    "    while times > -1:\n",
    "        minute,second = (times // 60 , times % 60)\n",
    "        \n",
    "        hour = 0\n",
    "        if minute > 60:\n",
    "            hour , minute = (minute // 60 , minute % 60)\n",
    "      \n",
    "        sec.set(second)\n",
    "        mins.set(minute)\n",
    "        hrs.set(hour)\n",
    "   \n",
    "        root.update()\n",
    "        time.sleep(1)\n",
    "\n",
    "        if(times == 0):\n",
    "            playsound('Loud_Alarm_Clock_Buzzer.mp3')\n",
    "            sec.set('00')\n",
    "            mins.set('00')\n",
    "            hrs.set('00')\n",
    "        times -= 1"
   ]
  },
  {
   "cell_type": "code",
   "execution_count": null,
   "id": "731b3974",
   "metadata": {},
   "outputs": [],
   "source": [
    "Label(root, font ='arial 15 bold', text = 'set the time',   bg ='papaya whip').place(x = 40 ,y = 150)\n",
    "\n",
    "Button(root, text='START', bd ='5', command = countdown, bg = 'antique white', font = 'arial 10 bold').place(x=150, y=210)\n",
    " \n",
    "root.mainloop()"
   ]
  },
  {
   "cell_type": "code",
   "execution_count": null,
   "id": "039a58b1",
   "metadata": {},
   "outputs": [],
   "source": []
  }
 ],
 "metadata": {
  "kernelspec": {
   "display_name": "Python 3 (ipykernel)",
   "language": "python",
   "name": "python3"
  },
  "language_info": {
   "codemirror_mode": {
    "name": "ipython",
    "version": 3
   },
   "file_extension": ".py",
   "mimetype": "text/x-python",
   "name": "python",
   "nbconvert_exporter": "python",
   "pygments_lexer": "ipython3",
   "version": "3.9.7"
  }
 },
 "nbformat": 4,
 "nbformat_minor": 5
}
